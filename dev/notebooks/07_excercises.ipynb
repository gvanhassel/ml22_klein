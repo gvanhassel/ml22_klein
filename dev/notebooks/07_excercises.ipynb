{
 "cells": [
  {
   "cell_type": "code",
   "execution_count": null,
   "metadata": {},
   "outputs": [],
   "source": [
    "import torch\n",
    "import seaborn as sns\n",
    "import sys\n",
    "from pathlib import Path\n",
    "sys.path.insert(0, \"../..\")\n",
    "from src.data import make_dataset\n",
    "from src.models import imagemodels\n",
    "from src.models import train_model\n",
    "from src.models import metrics\n",
    "import gin"
   ]
  },
  {
   "cell_type": "code",
   "execution_count": null,
   "metadata": {},
   "outputs": [],
   "source": [
    "gin.parse_config_file(\"model.gin\")\n",
    "train_dataloader, test_dataloader = make_dataset.get_MNIST()\n",
    "accuracy = metrics.Accuracy()\n",
    "# print(gin.config_str())"
   ]
  },
  {
   "cell_type": "code",
   "execution_count": null,
   "metadata": {},
   "outputs": [],
   "source": [
    "\n",
    "def hand_hypertuning(\n",
    "    learning_rates,\n",
    "    kernel_sizes,\n",
    "    filters1,\n",
    "    filters2,\n",
    "    units1,\n",
    "    units2,\n",
    "    model_dic,\n",
    "    epoch = 3,\n",
    "    num_classes = 10,\n",
    "    log_dir = \"../../models/test/\"):\n",
    "  \n",
    "    # make list if not list:\n",
    "    def make_ls(x):\n",
    "        return x if type(x) == type([]) else [x]\n",
    "\n",
    "    # maak van loopers list if not:\n",
    "    learning_rates = make_ls(learning_rates) \n",
    "    kernel_sizes = make_ls(kernel_sizes) \n",
    "    filters1 = make_ls(filters1) \n",
    "    filters2 = make_ls(filters2) \n",
    "    units1 = make_ls(units1) \n",
    "    units2 = make_ls(units2)\n",
    "\n",
    "    #model naam en model object vullen:\n",
    "    \n",
    "    model_name = model_dic[0]\n",
    "    \n",
    "    \n",
    "    #gin_config resetten en vullen:\n",
    "    gin.clear_config()\n",
    "    gin.parse_config_file(\"model.gin\")\n",
    "    \n",
    "    gin.bind_parameter(\"trainloop.log_dir\",log_dir)\n",
    "    gin.bind_parameter(\"trainloop.epochs\", epoch)\n",
    "    gin.bind_parameter(model_name + '.num_classes', num_classes)\n",
    "    # gin.bind_parameter(model_name + '.kernel_size', kernel_size)\n",
    "\n",
    "    for fl1 in filters1:\n",
    "        for fl2 in filters2:\n",
    "            if fl2 <= fl1:\n",
    "                for ut1 in units1:\n",
    "                    for ut2 in units2:\n",
    "                        if ut2 <= ut1:\n",
    "                            for lr in learning_rates:\n",
    "                                for kerz in kernel_sizes:\n",
    "                                \n",
    "                                    gin.bind_parameter(model_name + '.filter1', fl1)\n",
    "                                    gin.bind_parameter(model_name + '.filter2', fl2)\n",
    "                                    gin.bind_parameter(model_name + '.unit1', ut1)\n",
    "                                    gin.bind_parameter(model_name + '.unit2', ut2)\n",
    "                                    gin.bind_parameter(model_name + '.kernel_size', kerz)\n",
    "                                    gin.bind_parameter(\"trainloop.learning_rate\", lr)\n",
    "                                    # print(gin.config_str())\n",
    "\n",
    "                                    model = model_dic[1]\n",
    "\n",
    "                                    model =  train_model.trainloop(\n",
    "                                        model=model(),\n",
    "                                        metrics=[accuracy],\n",
    "                                        train_dataloader=train_dataloader,\n",
    "                                        test_dataloader=test_dataloader,\n",
    "                                        train_steps=len(train_dataloader),\n",
    "                                        eval_steps=150,\n",
    "                                    )\n",
    "    \n",
    "    return None\n",
    "\n",
    "model_dic = {\n",
    "    'CNN':{0:'CNN',1:imagemodels.CNN}\n",
    "    ,'CNN_150': {0:'CNN_150',1:imagemodels.CNN_150}\n",
    "    }\n",
    "    \n"
   ]
  },
  {
   "attachments": {},
   "cell_type": "markdown",
   "metadata": {},
   "source": [
    "Als eerste wordt de learning rate getest:"
   ]
  },
  {
   "cell_type": "code",
   "execution_count": null,
   "metadata": {},
   "outputs": [],
   "source": [
    "\n",
    "# hand_hypertuning(\n",
    "#     model_dic = model_dic['CNN']\n",
    "#     ,learning_rates = [0.01, 0.001, 0.0001]\n",
    "#     ,kernel_sizes = 3\n",
    "#     ,filters1 = 128\n",
    "#     ,filters2 = 128\n",
    "#     ,units1 = 128\n",
    "#     ,units2 = 64\n",
    "#     ,log_dir = \"../../models/learning_rate/\")"
   ]
  },
  {
   "attachments": {},
   "cell_type": "markdown",
   "metadata": {},
   "source": [
    "Nu we weten dat de optimale learning rate ligt op ongeveer 0.001 kan verder naar andere optimuns worden gezocht.\n",
    "Als eerste wordt kernelsize getest:"
   ]
  },
  {
   "attachments": {},
   "cell_type": "markdown",
   "metadata": {},
   "source": [
    "Kernal; size is optimaal op 2 omdat filters en units de onformatie aan elkaar doorgeven, hebben filter zise en unitr een invloed op elkaar. De units nemen het over op een platten 128. dit geeft beperkingen deze zijn meegenomen:"
   ]
  },
  {
   "cell_type": "code",
   "execution_count": null,
   "metadata": {},
   "outputs": [],
   "source": [
    "# fil_range_e3 = [16,32,64,128]\n",
    "# fil_range_e10 = [32,64]\n",
    "\n",
    "# hand_hypertuning(\n",
    "#     model_dic = model_dic['CNN']\n",
    "#     ,learning_rates = 0.001\n",
    "#     ,kernel_sizes = 2\n",
    "#     ,filters1 = fil_range_e10\n",
    "#     ,filters2 = fil_range_e10\n",
    "#     ,units1 = 128\n",
    "#     ,units2 = 64\n",
    "#     ,log_dir = \"../../models/filters/\"\n",
    "#     ,epoch = 10\n",
    "#     )"
   ]
  },
  {
   "cell_type": "code",
   "execution_count": null,
   "metadata": {},
   "outputs": [],
   "source": [
    "unit_range_e3 = [16,32,64,128]\n",
    "unit_range_e10 = [32,64,128]\n",
    "\n",
    "# hand_hypertuning(\n",
    "#     model_dic = model_dic['CNN']\n",
    "#     ,learning_rates = 0.001\n",
    "#     ,kernel_sizes = 2\n",
    "#     ,filters1 = 64\n",
    "#     ,filters2 = 64\n",
    "#     ,units1 = 128\n",
    "#     ,units2 = 128\n",
    "#     ,log_dir = \"../../models/units/\"\n",
    "#     ,epoch = 3\n",
    "#     )"
   ]
  },
  {
   "cell_type": "code",
   "execution_count": null,
   "metadata": {},
   "outputs": [],
   "source": [
    "fil_range_e3 = [16,32,64,128]\n",
    "# fil_range_e10 = [32,64]\n",
    "\n",
    "hand_hypertuning(\n",
    "    model_dic = model_dic['CNN_150']\n",
    "    ,learning_rates = 0.001\n",
    "    ,kernel_sizes = 2\n",
    "    ,filters1 = fil_range_e3\n",
    "    ,filters2 = fil_range_e3\n",
    "    ,units1 = 128\n",
    "    ,units2 = 128\n",
    "    ,log_dir = \"../../models/filters_cnn150/\"\n",
    "    ,epoch = 3\n",
    "    )"
   ]
  },
  {
   "cell_type": "code",
   "execution_count": null,
   "metadata": {},
   "outputs": [],
   "source": [
    "%tensorboard"
   ]
  }
 ],
 "metadata": {
  "kernelspec": {
   "display_name": "Python 3.9.12 ('poetry_add_pandas-Tn0MmM9i-py3.9': poetry)",
   "language": "python",
   "name": "python3"
  },
  "language_info": {
   "codemirror_mode": {
    "name": "ipython",
    "version": 3
   },
   "file_extension": ".py",
   "mimetype": "text/x-python",
   "name": "python",
   "nbconvert_exporter": "python",
   "pygments_lexer": "ipython3",
   "version": "3.9.12 (main, Nov 19 2022, 09:58:14) \n[GCC 11.3.0]"
  },
  "orig_nbformat": 4,
  "vscode": {
   "interpreter": {
    "hash": "6dc99aa1bd7537e0258e13e20cc216861e02369acc2d56ce5faa223331cf95d5"
   }
  }
 },
 "nbformat": 4,
 "nbformat_minor": 2
}
